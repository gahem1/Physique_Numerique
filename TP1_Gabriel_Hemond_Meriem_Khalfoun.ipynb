{
 "cells": [
  {
   "cell_type": "markdown",
   "metadata": {},
   "source": [
    "# Pouvoir d’arrêt collisionnel des protons\n",
    "## 1.\n",
    "Typiquement, la plus grande énergie utilisée dans les centres de photonthérapie est de 230 MeV.\n",
    "\n",
    "L'énergie totale d'un corps s'écrit $E=\\gamma mc^2$ alors que l'énergie de repos s'écrit $E_0=mc^2$, donc l'énergie cinétique est $T=E-E_0=(\\gamma-1)mc^2$. En inversant cette équation, on obtient $$\\boxed{\\gamma=\\frac{T}{mc^2}+1}$$ Par leur définition, $\\beta=\\frac{v}{c}$ et $\\gamma=\\frac{1}{\\sqrt{1-\\frac{v^2}{c^2}}}$. Par substitution, on voit que $$\\boxed{\\gamma=\\frac{1}{\\sqrt{1-\\beta^2}}}\\quad\\text{et}\\quad\\boxed{\\beta=\\sqrt{1-\\frac{1}{\\gamma^2}}}$$\n",
    "\n",
    "## 2.\n",
    "La densité électronique ($n_e$) est le nombre d'électrons par unité de volume, ce qui correspond à la somme des densités atomiques des différents éléments du matériau multipliées par leur nombre de proton ($Z$) par atome correspondant (en présumant que le matériau est électriquement neutre). La densité atomique d'un élément correspond à la densité massique du matériau ($\\rho$) en grammes par cm$^3$ multipliée par la fraction de la masse du matériau appartenant à l'élément ($\\xi$) divisée par la masse atomique de l'élément ($m_Z$) en grammes par mole, le tout multiplié par le nombre d'Avogadro ($N_o$) pour que les grammes par moles deviennent des grammes par atome. Autrement dit, $$n_e=\\rho N_o\\sum_{Z=1}^\\infty\\frac{Z\\xi_Z}{m_Z}$$"
   ]
  },
  {
   "cell_type": "code",
   "execution_count": 14,
   "metadata": {},
   "outputs": [
    {
     "name": "stdout",
     "output_type": "stream",
     "text": [
      "Densité électronique de l'eau: 3.342731617093692e+23 électrons par cm^3\n",
      "\n",
      "Densité électronique de l'os cortical: 5.8077060231519456e+23 électrons par cm^3\n"
     ]
    }
   ],
   "source": [
    "def densite_elec_massique(masses_materiau, masses_atomiques):\n",
    "    densite = 0\n",
    "    for i in masses_materiau:\n",
    "        densite += i * masses_materiau[i] / masses_atomiques[i]\n",
    "    return densite\n",
    "\n",
    "\n",
    "masses_atomiques = {\n",
    "    1: 1.0079,\n",
    "    6: 12.0107,\n",
    "    7: 14.0067,\n",
    "    8: 15.9994,\n",
    "    12: 24.305,\n",
    "    15: 30.9738,\n",
    "    16: 32.065,\n",
    "    20: 40.078,\n",
    "    30: 65.39,\n",
    "}\n",
    "avogadro = 6.022 * 10 ** 23\n",
    "masses_eau = {1: 0.111894, 8: 0.888106}\n",
    "masses_os = {\n",
    "    1: 0.047234,\n",
    "    6: 0.144330,\n",
    "    7: 0.041990,\n",
    "    8: 0.446096,\n",
    "    12: 0.002200,\n",
    "    15: 0.104970,\n",
    "    16: 0.003150,\n",
    "    20: 0.209930,\n",
    "    30: 0.000100\n",
    "}\n",
    "dens_masse_os = 1.85\n",
    "dens_masse_eau = 1\n",
    "\n",
    "\n",
    "densite_elec_eau = dens_masse_eau * avogadro * densite_elec_massique(masses_eau, masses_atomiques)\n",
    "densite_elec_os = dens_masse_os * avogadro * densite_elec_massique(masses_os, masses_atomiques)\n",
    "\n",
    "\n",
    "print(\"Densité électronique de l'eau: {0} électrons par cm^3\\n\".format(densite_elec_eau))\n",
    "print(\"Densité électronique de l'os cortical: {0} électrons par cm^3\".format(densite_elec_os))"
   ]
  },
  {
   "cell_type": "code",
   "execution_count": null,
   "metadata": {},
   "outputs": [],
   "source": [
    "import matplotlib as mp\n",
    "import numpy as np\n",
    "\n",
    "\n",
    "def pouvoir(energie, dens, re, me, c, Tmax):\n",
    "    coefficient = 2 * np.pi * re ** 2 * me * c ** 2 * dens / \n",
    "\n",
    "\n",
    "re = 2.82 * 10 ** (-15)  # Rayon classique de l'électron (m)\n",
    "me = 9.109 * 10 ** (-31)  # Masse classique de l'électron (kg)\n",
    "c = 2.99792458 * 10 ** (8)  # Vitesse de la lumière (m/s)\n",
    "Tmax = 230  # Énergie cinétique maximale (MeV)\n",
    "\n",
    "\n",
    "energie_eau = 75\n",
    "energie_os = 106.4\n",
    "\n",
    "\n"
   ]
  }
 ],
 "metadata": {
  "kernelspec": {
   "display_name": "Python 3",
   "language": "python",
   "name": "python3"
  },
  "language_info": {
   "codemirror_mode": {
    "name": "ipython",
    "version": 3
   },
   "file_extension": ".py",
   "mimetype": "text/x-python",
   "name": "python",
   "nbconvert_exporter": "python",
   "pygments_lexer": "ipython3",
   "version": "3.6.5"
  }
 },
 "nbformat": 4,
 "nbformat_minor": 2
}
